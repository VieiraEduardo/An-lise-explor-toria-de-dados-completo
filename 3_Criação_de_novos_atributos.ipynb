{
  "nbformat": 4,
  "nbformat_minor": 0,
  "metadata": {
    "colab": {
      "provenance": [],
      "authorship_tag": "ABX9TyOz60ewiqD4k+1jAXVtV6OI",
      "include_colab_link": true
    },
    "kernelspec": {
      "name": "python3",
      "display_name": "Python 3"
    },
    "language_info": {
      "name": "python"
    }
  },
  "cells": [
    {
      "cell_type": "markdown",
      "metadata": {
        "id": "view-in-github",
        "colab_type": "text"
      },
      "source": [
        "<a href=\"https://colab.research.google.com/github/VieiraEduardo/An-lise-explor-toria-de-dados-completo/blob/main/3_Cria%C3%A7%C3%A3o_de_novos_atributos.ipynb\" target=\"_parent\"><img src=\"https://colab.research.google.com/assets/colab-badge.svg\" alt=\"Open In Colab\"/></a>"
      ]
    },
    {
      "cell_type": "code",
      "execution_count": null,
      "metadata": {
        "id": "z6UGcuyRh2SF"
      },
      "outputs": [],
      "source": []
    },
    {
      "cell_type": "markdown",
      "source": [
        "Criação de novos atributos\n",
        "\n",
        "A criação de novos atributos ou ( Features Engineering 0 é uma técnica para melhorar a capacidade preditiva dos modelos de aprendizado de máquina. Isso envolve gerar novos atributos  derivados apartir dos dados existentes."
      ],
      "metadata": {
        "id": "6_pMm-bPicSS"
      }
    },
    {
      "cell_type": "markdown",
      "source": [
        "Irei criar os seguintes atributos\n",
        "\n",
        "\n",
        "*   Idade agrupada: Criar categorias para diferentes faixas etárias\n",
        "*   Tamanho da família:  Calcular o tamanho total da familia a bordo\n",
        "*   Tarifa por pessoa: Calcular a tarifa por pessoa\n",
        "*   Título por nome: Extrair títulos dos nomes dos passageiros\n",
        "\n",
        "\n",
        "\n",
        "\n",
        "\n"
      ],
      "metadata": {
        "id": "DraeJlucjNvx"
      }
    },
    {
      "cell_type": "markdown",
      "source": [
        "1. Importar as bibliotecas necessárias\n"
      ],
      "metadata": {
        "id": "gMmaq2qYj40Q"
      }
    },
    {
      "cell_type": "code",
      "source": [
        "import pandas as pd\n",
        "import numpy as np\n",
        "import matplotlib.pyplot as plt\n",
        "import os as os\n",
        "from google.colab import files"
      ],
      "metadata": {
        "id": "gTy0ncJ9j-Tn"
      },
      "execution_count": null,
      "outputs": []
    },
    {
      "cell_type": "code",
      "source": [
        "#Carregar o conjunto de dados Titanic\n",
        "url = 'https://raw.githubusercontent.com/datasciencedojo/datasets/master/titanic.csv'\n",
        "df = pd.read_csv(url)\n",
        "\n",
        "#Visualizar asprimeiras linha do DataFrame\n",
        "print(\"Primeiras linhas do DataFrame Original:\")\n",
        "print(df.head())\n"
      ],
      "metadata": {
        "colab": {
          "base_uri": "https://localhost:8080/"
        },
        "id": "u0hnIBPskR2l",
        "outputId": "07a1abb8-a3af-4497-d205-9f68588b81aa"
      },
      "execution_count": null,
      "outputs": [
        {
          "output_type": "stream",
          "name": "stdout",
          "text": [
            "Primeiras linhas do DataFrame Original:\n",
            "   PassengerId  Survived  Pclass  \\\n",
            "0            1         0       3   \n",
            "1            2         1       1   \n",
            "2            3         1       3   \n",
            "3            4         1       1   \n",
            "4            5         0       3   \n",
            "\n",
            "                                                Name     Sex   Age  SibSp  \\\n",
            "0                            Braund, Mr. Owen Harris    male  22.0      1   \n",
            "1  Cumings, Mrs. John Bradley (Florence Briggs Th...  female  38.0      1   \n",
            "2                             Heikkinen, Miss. Laina  female  26.0      0   \n",
            "3       Futrelle, Mrs. Jacques Heath (Lily May Peel)  female  35.0      1   \n",
            "4                           Allen, Mr. William Henry    male  35.0      0   \n",
            "\n",
            "   Parch            Ticket     Fare Cabin Embarked  \n",
            "0      0         A/5 21171   7.2500   NaN        S  \n",
            "1      0          PC 17599  71.2833   C85        C  \n",
            "2      0  STON/O2. 3101282   7.9250   NaN        S  \n",
            "3      0            113803  53.1000  C123        S  \n",
            "4      0            373450   8.0500   NaN        S  \n"
          ]
        }
      ]
    },
    {
      "cell_type": "markdown",
      "source": [
        "2. Criar novos atributos"
      ],
      "metadata": {
        "id": "qwqFVCCIlEgI"
      }
    },
    {
      "cell_type": "markdown",
      "source": [
        "\n",
        "\n",
        "*   Idade agrupada\n",
        "\n",
        "\n",
        "\n",
        "\n"
      ],
      "metadata": {
        "id": "vDI6qC7rlNWH"
      }
    },
    {
      "cell_type": "code",
      "source": [
        "# Criar um novo atributo - \"Agegroup\"\n",
        "bins = [0, 12, 18, 35, 60, 120]\n",
        "labels = ['Crianca', 'Adolescente', 'Adulto Jovem', 'Adulto', 'Idoso']\n",
        "df['Agegroup'] = pd.cut(df['Age'], bins=bins, labels=labels)\n",
        "\n",
        "# Visualizar o novo atributo\n",
        "print(\"Novo atributo - Agegroup:\")\n",
        "print(df[['Age', \"Agegroup\"]].head(10))"
      ],
      "metadata": {
        "colab": {
          "base_uri": "https://localhost:8080/"
        },
        "id": "DGiuQMqRlDy_",
        "outputId": "24bd1768-bd26-4d28-9b6b-6156e49d75e9"
      },
      "execution_count": null,
      "outputs": [
        {
          "output_type": "stream",
          "name": "stdout",
          "text": [
            "Novo atributo - Agegroup:\n",
            "    Age      Agegroup\n",
            "0  22.0  Adulto Jovem\n",
            "1  38.0        Adulto\n",
            "2  26.0  Adulto Jovem\n",
            "3  35.0  Adulto Jovem\n",
            "4  35.0  Adulto Jovem\n",
            "5   NaN           NaN\n",
            "6  54.0        Adulto\n",
            "7   2.0       Crianca\n",
            "8  27.0  Adulto Jovem\n",
            "9  14.0   Adolescente\n"
          ]
        }
      ]
    },
    {
      "cell_type": "markdown",
      "source": [
        "2. Tamanho da família: Calcular o tamanho da família a bordo, somenado SibSP ( irmãos e cônjuges e Parch ( Pais e Filhos )"
      ],
      "metadata": {
        "id": "fOE7TtKNoE6y"
      }
    },
    {
      "cell_type": "code",
      "source": [
        "#Criar um novo atributo - \"FamilySize\"\n",
        "df['FamilySize'] = df['SibSp'] + df['Parch'] + 1\n",
        "\n",
        "#Visualizar o novo atributo\n",
        "print(\"Novo atributo - FamilySize:\")\n",
        "print(df[['SibSp', 'Parch', 'FamilySize']].head(10))"
      ],
      "metadata": {
        "colab": {
          "base_uri": "https://localhost:8080/"
        },
        "id": "UtTl9z_MojkE",
        "outputId": "3b692bdf-7a56-428d-f06a-09c3e79402f6"
      },
      "execution_count": null,
      "outputs": [
        {
          "output_type": "stream",
          "name": "stdout",
          "text": [
            "Novo atributo - FamilySize:\n",
            "   SibSp  Parch  FamilySize\n",
            "0      1      0           2\n",
            "1      1      0           2\n",
            "2      0      0           1\n",
            "3      1      0           2\n",
            "4      0      0           1\n",
            "5      0      0           1\n",
            "6      0      0           1\n",
            "7      3      1           5\n",
            "8      0      2           3\n",
            "9      1      0           2\n"
          ]
        }
      ]
    },
    {
      "cell_type": "markdown",
      "source": [
        "3. Tarifa por pessoa"
      ],
      "metadata": {
        "id": "Ou9G7Bmio6ZD"
      }
    },
    {
      "cell_type": "code",
      "source": [
        "#Criar um novo atributo - \"FarePerPerson\"\n",
        "df['FarePerPerson'] = df['Fare'] / df['FamilySize']\n",
        "\n",
        "#Visualizar o novo atributo\n",
        "print(\"Novo atributo - FarePerPerson:\")\n",
        "print(df[['Fare', 'FamilySize', 'FarePerPerson']].head(10))"
      ],
      "metadata": {
        "colab": {
          "base_uri": "https://localhost:8080/"
        },
        "id": "YS7VX4Nro-RI",
        "outputId": "cb44648c-3312-48b5-c007-5edeffb0dbf9"
      },
      "execution_count": null,
      "outputs": [
        {
          "output_type": "stream",
          "name": "stdout",
          "text": [
            "Novo atributo - FarePerPerson:\n",
            "      Fare  FamilySize  FarePerPerson\n",
            "0   7.2500           2        3.62500\n",
            "1  71.2833           2       35.64165\n",
            "2   7.9250           1        7.92500\n",
            "3  53.1000           2       26.55000\n",
            "4   8.0500           1        8.05000\n",
            "5   8.4583           1        8.45830\n",
            "6  51.8625           1       51.86250\n",
            "7  21.0750           5        4.21500\n",
            "8  11.1333           3        3.71110\n",
            "9  30.0708           2       15.03540\n"
          ]
        }
      ]
    },
    {
      "cell_type": "markdown",
      "source": [
        "4. Título do nome"
      ],
      "metadata": {
        "id": "cnA5LYAgpRyD"
      }
    },
    {
      "cell_type": "code",
      "source": [
        "#Extrair título do nome\n",
        "df['Title'] = df['Name'].str.extract(' ([A-Za-z]+)\\.', expand=False)\n",
        "\n",
        "#Visualizar o novo atributo\n",
        "print(\"Novo atributo - Title:\")\n",
        "print(df[['Name', 'Title']].head(10))"
      ],
      "metadata": {
        "colab": {
          "base_uri": "https://localhost:8080/"
        },
        "id": "TXS2KKBEpXfn",
        "outputId": "117e5935-ad89-422a-cd0d-2d79142a55b2"
      },
      "execution_count": null,
      "outputs": [
        {
          "output_type": "stream",
          "name": "stdout",
          "text": [
            "Novo atributo - Title:\n",
            "                                                Name   Title\n",
            "0                            Braund, Mr. Owen Harris      Mr\n",
            "1  Cumings, Mrs. John Bradley (Florence Briggs Th...     Mrs\n",
            "2                             Heikkinen, Miss. Laina    Miss\n",
            "3       Futrelle, Mrs. Jacques Heath (Lily May Peel)     Mrs\n",
            "4                           Allen, Mr. William Henry      Mr\n",
            "5                                   Moran, Mr. James      Mr\n",
            "6                            McCarthy, Mr. Timothy J      Mr\n",
            "7                     Palsson, Master. Gosta Leonard  Master\n",
            "8  Johnson, Mrs. Oscar W (Elisabeth Vilhelmina Berg)     Mrs\n",
            "9                Nasser, Mrs. Nicholas (Adele Achem)     Mrs\n"
          ]
        }
      ]
    },
    {
      "cell_type": "markdown",
      "source": [
        "4. Copiando o dataframe para um arquivo csv\n"
      ],
      "metadata": {
        "id": "Z-dyewrcp3yf"
      }
    },
    {
      "cell_type": "code",
      "source": [
        "#Salvar o dataFrame como um arquivo CSV\n",
        "df.to_csv('titanic_adicao_atributos.csv', index=False)\n",
        "\n",
        "#Baixar o arquivo CSV\n",
        "files.download('titanic_adicao_atributos.csv')"
      ],
      "metadata": {
        "colab": {
          "base_uri": "https://localhost:8080/",
          "height": 17
        },
        "id": "MmsBQnxYp9vm",
        "outputId": "e997f2db-55f8-46f6-c760-8bb0500943ae"
      },
      "execution_count": null,
      "outputs": [
        {
          "output_type": "display_data",
          "data": {
            "text/plain": [
              "<IPython.core.display.Javascript object>"
            ],
            "application/javascript": [
              "\n",
              "    async function download(id, filename, size) {\n",
              "      if (!google.colab.kernel.accessAllowed) {\n",
              "        return;\n",
              "      }\n",
              "      const div = document.createElement('div');\n",
              "      const label = document.createElement('label');\n",
              "      label.textContent = `Downloading \"${filename}\": `;\n",
              "      div.appendChild(label);\n",
              "      const progress = document.createElement('progress');\n",
              "      progress.max = size;\n",
              "      div.appendChild(progress);\n",
              "      document.body.appendChild(div);\n",
              "\n",
              "      const buffers = [];\n",
              "      let downloaded = 0;\n",
              "\n",
              "      const channel = await google.colab.kernel.comms.open(id);\n",
              "      // Send a message to notify the kernel that we're ready.\n",
              "      channel.send({})\n",
              "\n",
              "      for await (const message of channel.messages) {\n",
              "        // Send a message to notify the kernel that we're ready.\n",
              "        channel.send({})\n",
              "        if (message.buffers) {\n",
              "          for (const buffer of message.buffers) {\n",
              "            buffers.push(buffer);\n",
              "            downloaded += buffer.byteLength;\n",
              "            progress.value = downloaded;\n",
              "          }\n",
              "        }\n",
              "      }\n",
              "      const blob = new Blob(buffers, {type: 'application/binary'});\n",
              "      const a = document.createElement('a');\n",
              "      a.href = window.URL.createObjectURL(blob);\n",
              "      a.download = filename;\n",
              "      div.appendChild(a);\n",
              "      a.click();\n",
              "      div.remove();\n",
              "    }\n",
              "  "
            ]
          },
          "metadata": {}
        },
        {
          "output_type": "display_data",
          "data": {
            "text/plain": [
              "<IPython.core.display.Javascript object>"
            ],
            "application/javascript": [
              "download(\"download_4e18c1ad-31db-44f3-81eb-d2ebe7f6e912\", \"titanic_adicao_atributos.csv\", 81597)"
            ]
          },
          "metadata": {}
        }
      ]
    }
  ]
}