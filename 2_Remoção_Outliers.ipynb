{
  "nbformat": 4,
  "nbformat_minor": 0,
  "metadata": {
    "colab": {
      "provenance": [],
      "authorship_tag": "ABX9TyO4FBak2g+2QV5NQvZIDR/C",
      "include_colab_link": true
    },
    "kernelspec": {
      "name": "python3",
      "display_name": "Python 3"
    },
    "language_info": {
      "name": "python"
    }
  },
  "cells": [
    {
      "cell_type": "markdown",
      "metadata": {
        "id": "view-in-github",
        "colab_type": "text"
      },
      "source": [
        "<a href=\"https://colab.research.google.com/github/VieiraEduardo/An-lise-explor-toria-de-dados-completo/blob/main/2_Remo%C3%A7%C3%A3o_Outliers.ipynb\" target=\"_parent\"><img src=\"https://colab.research.google.com/assets/colab-badge.svg\" alt=\"Open In Colab\"/></a>"
      ]
    },
    {
      "cell_type": "markdown",
      "source": [
        "1. Importar as bibliotecas necessárias"
      ],
      "metadata": {
        "id": "6n-uAMtfE4VD"
      }
    },
    {
      "cell_type": "code",
      "execution_count": null,
      "metadata": {
        "id": "_pHXAs8BBbHd"
      },
      "outputs": [],
      "source": [
        "import pandas as pd\n",
        "import numpy as np\n",
        "import os as os\n",
        "from google.colab import files\n",
        "import matplotlib.pyplot as plt\n",
        "from sklearn.ensemble import IsolationForest"
      ]
    },
    {
      "cell_type": "markdown",
      "source": [
        "2. Carregar o dataset do titanic"
      ],
      "metadata": {
        "id": "uE8-nrP3EvYS"
      }
    },
    {
      "cell_type": "code",
      "source": [
        "#Carregar fataset titanic\n",
        "url = 'https://raw.githubusercontent.com/datasciencedojo/datasets/master/titanic.csv'\n",
        "df = pd.read_csv(url)"
      ],
      "metadata": {
        "id": "08cghD0hEqh8"
      },
      "execution_count": null,
      "outputs": []
    },
    {
      "cell_type": "code",
      "source": [
        "#Visualizar os nomes das colunas\n",
        "print(\"Nome das coluanas\")\n",
        "print(df.columns)"
      ],
      "metadata": {
        "colab": {
          "base_uri": "https://localhost:8080/"
        },
        "id": "vzBPYCNkFNZo",
        "outputId": "ddb7b57f-7ccd-4080-a89a-c4f46e896da0"
      },
      "execution_count": null,
      "outputs": [
        {
          "output_type": "stream",
          "name": "stdout",
          "text": [
            "Nome das coluanas\n",
            "Index(['PassengerId', 'Survived', 'Pclass', 'Name', 'Sex', 'Age', 'SibSp',\n",
            "       'Parch', 'Ticket', 'Fare', 'Cabin', 'Embarked'],\n",
            "      dtype='object')\n"
          ]
        }
      ]
    },
    {
      "cell_type": "code",
      "source": [
        "#Resumo das colunas\n",
        "print(\"Resumo das colunas\")\n",
        "print(df.info())"
      ],
      "metadata": {
        "colab": {
          "base_uri": "https://localhost:8080/"
        },
        "id": "2_unyUBwGL-x",
        "outputId": "77eb4c60-7a39-4173-cf31-9e609b16fc23"
      },
      "execution_count": null,
      "outputs": [
        {
          "output_type": "stream",
          "name": "stdout",
          "text": [
            "Resumo das colunas\n",
            "<class 'pandas.core.frame.DataFrame'>\n",
            "RangeIndex: 891 entries, 0 to 890\n",
            "Data columns (total 12 columns):\n",
            " #   Column       Non-Null Count  Dtype  \n",
            "---  ------       --------------  -----  \n",
            " 0   PassengerId  891 non-null    int64  \n",
            " 1   Survived     891 non-null    int64  \n",
            " 2   Pclass       891 non-null    int64  \n",
            " 3   Name         891 non-null    object \n",
            " 4   Sex          891 non-null    object \n",
            " 5   Age          714 non-null    float64\n",
            " 6   SibSp        891 non-null    int64  \n",
            " 7   Parch        891 non-null    int64  \n",
            " 8   Ticket       891 non-null    object \n",
            " 9   Fare         891 non-null    float64\n",
            " 10  Cabin        204 non-null    object \n",
            " 11  Embarked     889 non-null    object \n",
            "dtypes: float64(2), int64(5), object(5)\n",
            "memory usage: 83.7+ KB\n",
            "None\n"
          ]
        }
      ]
    },
    {
      "cell_type": "code",
      "source": [
        "#Descrição das colunas\n",
        "coluna_descricao = {\n",
        "    'PassengerId': 'Identificador único do passageiro',\n",
        "    'Survived': 'Indica se o passageiro sobreviveu (1) ou não (0)',\n",
        "    'Pclass': 'Classe do passageiro (1, 2 ou 3)',\n",
        "    'Name': 'Nome do passageiro',\n",
        "    'Sex': 'Sexo do passageiro (male/female)',\n",
        "    'Age': 'Idade do passageiro',\n",
        "    'SibSp': 'Número de irmãos/cônjuges a bordo',\n",
        "    'Parch': 'Número de pais/filhos a bordo',\n",
        "    'Ticket': 'Número do ticket',\n",
        "    'Fare': 'Tarifa paga pelo passageiro',\n",
        "    'Cabin': 'Número da cabine do passageiro',\n",
        "    'Embarked': 'Porto de embarque (C = Cherbourg, Q = Queenstown, S = Southampton)'\n",
        "}\n",
        "\n",
        "#imprimir a descrição das colunas\n",
        "print(\"Descrição das colunas\")\n",
        "for coluna, descricao in coluna_descricao.items():\n",
        "    print(f\"{coluna}: {descricao}\")"
      ],
      "metadata": {
        "colab": {
          "base_uri": "https://localhost:8080/"
        },
        "id": "BRFZQ-qxJF1Y",
        "outputId": "b20980dc-138d-4298-a9b2-fd69673232c0"
      },
      "execution_count": null,
      "outputs": [
        {
          "output_type": "stream",
          "name": "stdout",
          "text": [
            "Descrição das colunas\n",
            "PassengerId: Identificador único do passageiro\n",
            "Survived: Indica se o passageiro sobreviveu (1) ou não (0)\n",
            "Pclass: Classe do passageiro (1, 2 ou 3)\n",
            "Name: Nome do passageiro\n",
            "Sex: Sexo do passageiro (male/female)\n",
            "Age: Idade do passageiro\n",
            "SibSp: Número de irmãos/cônjuges a bordo\n",
            "Parch: Número de pais/filhos a bordo\n",
            "Ticket: Número do ticket\n",
            "Fare: Tarifa paga pelo passageiro\n",
            "Cabin: Número da cabine do passageiro\n",
            "Embarked: Porto de embarque (C = Cherbourg, Q = Queenstown, S = Southampton)\n"
          ]
        }
      ]
    },
    {
      "cell_type": "code",
      "source": [
        "#Imprimir as primeiras linhas do dataset\n",
        "print(df.head())"
      ],
      "metadata": {
        "colab": {
          "base_uri": "https://localhost:8080/"
        },
        "id": "QGol3xiIKejT",
        "outputId": "1812f5fc-3c76-4808-cb32-2a7423c17887"
      },
      "execution_count": null,
      "outputs": [
        {
          "output_type": "stream",
          "name": "stdout",
          "text": [
            "   PassengerId  Survived  Pclass  \\\n",
            "0            1         0       3   \n",
            "1            2         1       1   \n",
            "2            3         1       3   \n",
            "3            4         1       1   \n",
            "4            5         0       3   \n",
            "\n",
            "                                                Name     Sex   Age  SibSp  \\\n",
            "0                            Braund, Mr. Owen Harris    male  22.0      1   \n",
            "1  Cumings, Mrs. John Bradley (Florence Briggs Th...  female  38.0      1   \n",
            "2                             Heikkinen, Miss. Laina  female  26.0      0   \n",
            "3       Futrelle, Mrs. Jacques Heath (Lily May Peel)  female  35.0      1   \n",
            "4                           Allen, Mr. William Henry    male  35.0      0   \n",
            "\n",
            "   Parch            Ticket     Fare Cabin Embarked  \n",
            "0      0         A/5 21171   7.2500   NaN        S  \n",
            "1      0          PC 17599  71.2833   C85        C  \n",
            "2      0  STON/O2. 3101282   7.9250   NaN        S  \n",
            "3      0            113803  53.1000  C123        S  \n",
            "4      0            373450   8.0500   NaN        S  \n"
          ]
        }
      ]
    },
    {
      "cell_type": "markdown",
      "source": [
        "3. Expotar o arquivo imputado para uma pasta local"
      ],
      "metadata": {
        "id": "FY2VBwnKPx6L"
      }
    },
    {
      "cell_type": "code",
      "source": [
        "#Salvar o dataframe como um arquivo local\n",
        "df.to_csv('titanic.csv', index=False)"
      ],
      "metadata": {
        "id": "KLsUYIwwPpfW"
      },
      "execution_count": null,
      "outputs": []
    },
    {
      "cell_type": "code",
      "source": [
        "#Baixar o arquivo CSV\n",
        "files.download('titanic.csv')"
      ],
      "metadata": {
        "colab": {
          "base_uri": "https://localhost:8080/",
          "height": 17
        },
        "id": "Y63bJn_5QChx",
        "outputId": "3024f2f4-ec21-4763-a8b8-737f9ce1c47b"
      },
      "execution_count": null,
      "outputs": [
        {
          "output_type": "display_data",
          "data": {
            "text/plain": [
              "<IPython.core.display.Javascript object>"
            ],
            "application/javascript": [
              "\n",
              "    async function download(id, filename, size) {\n",
              "      if (!google.colab.kernel.accessAllowed) {\n",
              "        return;\n",
              "      }\n",
              "      const div = document.createElement('div');\n",
              "      const label = document.createElement('label');\n",
              "      label.textContent = `Downloading \"${filename}\": `;\n",
              "      div.appendChild(label);\n",
              "      const progress = document.createElement('progress');\n",
              "      progress.max = size;\n",
              "      div.appendChild(progress);\n",
              "      document.body.appendChild(div);\n",
              "\n",
              "      const buffers = [];\n",
              "      let downloaded = 0;\n",
              "\n",
              "      const channel = await google.colab.kernel.comms.open(id);\n",
              "      // Send a message to notify the kernel that we're ready.\n",
              "      channel.send({})\n",
              "\n",
              "      for await (const message of channel.messages) {\n",
              "        // Send a message to notify the kernel that we're ready.\n",
              "        channel.send({})\n",
              "        if (message.buffers) {\n",
              "          for (const buffer of message.buffers) {\n",
              "            buffers.push(buffer);\n",
              "            downloaded += buffer.byteLength;\n",
              "            progress.value = downloaded;\n",
              "          }\n",
              "        }\n",
              "      }\n",
              "      const blob = new Blob(buffers, {type: 'application/binary'});\n",
              "      const a = document.createElement('a');\n",
              "      a.href = window.URL.createObjectURL(blob);\n",
              "      a.download = filename;\n",
              "      div.appendChild(a);\n",
              "      a.click();\n",
              "      div.remove();\n",
              "    }\n",
              "  "
            ]
          },
          "metadata": {}
        },
        {
          "output_type": "display_data",
          "data": {
            "text/plain": [
              "<IPython.core.display.Javascript object>"
            ],
            "application/javascript": [
              "download(\"download_14e88ed4-fb6f-4710-8a2b-2d1aea2af37e\", \"titanic.csv\", 62002)"
            ]
          },
          "metadata": {}
        }
      ]
    },
    {
      "cell_type": "markdown",
      "source": [
        "4. Pre processamento dos dados\n",
        "\n",
        "É importante tratar os dados antes de aplicar o Isolation Forest. Vamos preenhcer valores ausentes e selcionar algumas colunas numéricas.\n"
      ],
      "metadata": {
        "id": "feZcZ-c5QNJc"
      }
    },
    {
      "cell_type": "code",
      "source": [
        "#Visualizar os valores ausentes\n",
        "print(df.isnull().sum())"
      ],
      "metadata": {
        "colab": {
          "base_uri": "https://localhost:8080/"
        },
        "id": "aqdg4eZXQibh",
        "outputId": "a75f8ed2-a294-498b-dbb0-6eb9f9644653"
      },
      "execution_count": null,
      "outputs": [
        {
          "output_type": "stream",
          "name": "stdout",
          "text": [
            "PassengerId      0\n",
            "Survived         0\n",
            "Pclass           0\n",
            "Name             0\n",
            "Sex              0\n",
            "Age            177\n",
            "SibSp            0\n",
            "Parch            0\n",
            "Ticket           0\n",
            "Fare             0\n",
            "Cabin          687\n",
            "Embarked         2\n",
            "dtype: int64\n"
          ]
        }
      ]
    },
    {
      "cell_type": "code",
      "source": [
        "#Seleciona colunas numéricas para detectar outliers\n",
        "numerical_features = ['Age', 'SibSp', 'Parch', 'Fare']\n",
        "df_numerical = df[numerical_features]"
      ],
      "metadata": {
        "id": "4Kh_uSuLV-SU"
      },
      "execution_count": null,
      "outputs": []
    },
    {
      "cell_type": "code",
      "source": [
        "#Inicializar o modelo Isolation Forest\n",
        "model = IsolationForest(contamination=0.05, random_state=42)"
      ],
      "metadata": {
        "id": "kUDjEczsWcA0"
      },
      "execution_count": null,
      "outputs": []
    },
    {
      "cell_type": "code",
      "source": [
        "#Import simpleimputer to handle missing values\n",
        "from sklearn.impute import SimpleImputer"
      ],
      "metadata": {
        "id": "5lsiCegnW80e"
      },
      "execution_count": null,
      "outputs": []
    },
    {
      "cell_type": "code",
      "source": [
        "#Create an Imputer to fill missing values with  the median\n",
        "imputer = SimpleImputer(strategy='median')"
      ],
      "metadata": {
        "id": "QQ6TvFicX6kw"
      },
      "execution_count": null,
      "outputs": []
    },
    {
      "cell_type": "markdown",
      "source": [
        "5. Processamento do modelo"
      ],
      "metadata": {
        "id": "UlFNOvHSYXjm"
      }
    },
    {
      "cell_type": "code",
      "source": [
        "#fit the imputer to your numerical data and tranform it\n",
        "df_numerical_imputed = imputer.fit_transform(df_numerical)"
      ],
      "metadata": {
        "id": "sphJdHERYbbu"
      },
      "execution_count": null,
      "outputs": []
    },
    {
      "cell_type": "code",
      "source": [
        "#Ajustar o modelo aos dados numéricos ( após preenchimento dos valores ausentes )\n",
        "model.fit(df_numerical_imputed)"
      ],
      "metadata": {
        "colab": {
          "base_uri": "https://localhost:8080/",
          "height": 75
        },
        "id": "zCxsLUSlYsNV",
        "outputId": "ce605777-b09d-48b8-91c6-136adc721548"
      },
      "execution_count": null,
      "outputs": [
        {
          "output_type": "execute_result",
          "data": {
            "text/plain": [
              "IsolationForest(contamination=0.05, random_state=42)"
            ],
            "text/html": [
              "<style>#sk-container-id-1 {color: black;background-color: white;}#sk-container-id-1 pre{padding: 0;}#sk-container-id-1 div.sk-toggleable {background-color: white;}#sk-container-id-1 label.sk-toggleable__label {cursor: pointer;display: block;width: 100%;margin-bottom: 0;padding: 0.3em;box-sizing: border-box;text-align: center;}#sk-container-id-1 label.sk-toggleable__label-arrow:before {content: \"▸\";float: left;margin-right: 0.25em;color: #696969;}#sk-container-id-1 label.sk-toggleable__label-arrow:hover:before {color: black;}#sk-container-id-1 div.sk-estimator:hover label.sk-toggleable__label-arrow:before {color: black;}#sk-container-id-1 div.sk-toggleable__content {max-height: 0;max-width: 0;overflow: hidden;text-align: left;background-color: #f0f8ff;}#sk-container-id-1 div.sk-toggleable__content pre {margin: 0.2em;color: black;border-radius: 0.25em;background-color: #f0f8ff;}#sk-container-id-1 input.sk-toggleable__control:checked~div.sk-toggleable__content {max-height: 200px;max-width: 100%;overflow: auto;}#sk-container-id-1 input.sk-toggleable__control:checked~label.sk-toggleable__label-arrow:before {content: \"▾\";}#sk-container-id-1 div.sk-estimator input.sk-toggleable__control:checked~label.sk-toggleable__label {background-color: #d4ebff;}#sk-container-id-1 div.sk-label input.sk-toggleable__control:checked~label.sk-toggleable__label {background-color: #d4ebff;}#sk-container-id-1 input.sk-hidden--visually {border: 0;clip: rect(1px 1px 1px 1px);clip: rect(1px, 1px, 1px, 1px);height: 1px;margin: -1px;overflow: hidden;padding: 0;position: absolute;width: 1px;}#sk-container-id-1 div.sk-estimator {font-family: monospace;background-color: #f0f8ff;border: 1px dotted black;border-radius: 0.25em;box-sizing: border-box;margin-bottom: 0.5em;}#sk-container-id-1 div.sk-estimator:hover {background-color: #d4ebff;}#sk-container-id-1 div.sk-parallel-item::after {content: \"\";width: 100%;border-bottom: 1px solid gray;flex-grow: 1;}#sk-container-id-1 div.sk-label:hover label.sk-toggleable__label {background-color: #d4ebff;}#sk-container-id-1 div.sk-serial::before {content: \"\";position: absolute;border-left: 1px solid gray;box-sizing: border-box;top: 0;bottom: 0;left: 50%;z-index: 0;}#sk-container-id-1 div.sk-serial {display: flex;flex-direction: column;align-items: center;background-color: white;padding-right: 0.2em;padding-left: 0.2em;position: relative;}#sk-container-id-1 div.sk-item {position: relative;z-index: 1;}#sk-container-id-1 div.sk-parallel {display: flex;align-items: stretch;justify-content: center;background-color: white;position: relative;}#sk-container-id-1 div.sk-item::before, #sk-container-id-1 div.sk-parallel-item::before {content: \"\";position: absolute;border-left: 1px solid gray;box-sizing: border-box;top: 0;bottom: 0;left: 50%;z-index: -1;}#sk-container-id-1 div.sk-parallel-item {display: flex;flex-direction: column;z-index: 1;position: relative;background-color: white;}#sk-container-id-1 div.sk-parallel-item:first-child::after {align-self: flex-end;width: 50%;}#sk-container-id-1 div.sk-parallel-item:last-child::after {align-self: flex-start;width: 50%;}#sk-container-id-1 div.sk-parallel-item:only-child::after {width: 0;}#sk-container-id-1 div.sk-dashed-wrapped {border: 1px dashed gray;margin: 0 0.4em 0.5em 0.4em;box-sizing: border-box;padding-bottom: 0.4em;background-color: white;}#sk-container-id-1 div.sk-label label {font-family: monospace;font-weight: bold;display: inline-block;line-height: 1.2em;}#sk-container-id-1 div.sk-label-container {text-align: center;}#sk-container-id-1 div.sk-container {/* jupyter's `normalize.less` sets `[hidden] { display: none; }` but bootstrap.min.css set `[hidden] { display: none !important; }` so we also need the `!important` here to be able to override the default hidden behavior on the sphinx rendered scikit-learn.org. See: https://github.com/scikit-learn/scikit-learn/issues/21755 */display: inline-block !important;position: relative;}#sk-container-id-1 div.sk-text-repr-fallback {display: none;}</style><div id=\"sk-container-id-1\" class=\"sk-top-container\"><div class=\"sk-text-repr-fallback\"><pre>IsolationForest(contamination=0.05, random_state=42)</pre><b>In a Jupyter environment, please rerun this cell to show the HTML representation or trust the notebook. <br />On GitHub, the HTML representation is unable to render, please try loading this page with nbviewer.org.</b></div><div class=\"sk-container\" hidden><div class=\"sk-item\"><div class=\"sk-estimator sk-toggleable\"><input class=\"sk-toggleable__control sk-hidden--visually\" id=\"sk-estimator-id-1\" type=\"checkbox\" checked><label for=\"sk-estimator-id-1\" class=\"sk-toggleable__label sk-toggleable__label-arrow\">IsolationForest</label><div class=\"sk-toggleable__content\"><pre>IsolationForest(contamination=0.05, random_state=42)</pre></div></div></div></div></div>"
            ]
          },
          "metadata": {},
          "execution_count": 17
        }
      ]
    },
    {
      "cell_type": "code",
      "source": [
        "#Predição de Outliers\n",
        "df['Outlier'] = model.predict(df_numerical_imputed)"
      ],
      "metadata": {
        "id": "WoPgaFBwb0LY"
      },
      "execution_count": null,
      "outputs": []
    },
    {
      "cell_type": "code",
      "source": [
        "#Add de prediction as a new column to your original Dataframe\n",
        "Outlier_predictions = df['Outlier']"
      ],
      "metadata": {
        "id": "C3XuMXjjcKb3"
      },
      "execution_count": null,
      "outputs": []
    },
    {
      "cell_type": "code",
      "source": [
        "#Display the rows where Outliers were (outliers_predictions == -1)\n",
        "print(df[Outlier_predictions == -1])"
      ],
      "metadata": {
        "colab": {
          "base_uri": "https://localhost:8080/"
        },
        "id": "7S-OWWq_dIHK",
        "outputId": "e24aff3f-61e0-4231-992f-30d8718a4737"
      },
      "execution_count": null,
      "outputs": [
        {
          "output_type": "stream",
          "name": "stdout",
          "text": [
            "     PassengerId  Survived  Pclass  \\\n",
            "13            14         0       3   \n",
            "25            26         1       3   \n",
            "27            28         0       1   \n",
            "59            60         0       3   \n",
            "68            69         1       3   \n",
            "71            72         0       3   \n",
            "88            89         1       1   \n",
            "118          119         0       1   \n",
            "159          160         0       3   \n",
            "164          165         0       3   \n",
            "167          168         0       3   \n",
            "180          181         0       3   \n",
            "201          202         0       3   \n",
            "258          259         1       1   \n",
            "268          269         1       1   \n",
            "297          298         0       1   \n",
            "299          300         1       1   \n",
            "305          306         1       1   \n",
            "311          312         1       1   \n",
            "324          325         0       3   \n",
            "341          342         1       1   \n",
            "360          361         0       3   \n",
            "377          378         0       1   \n",
            "386          387         0       3   \n",
            "438          439         0       1   \n",
            "480          481         0       3   \n",
            "567          568         0       3   \n",
            "610          611         0       3   \n",
            "638          639         0       3   \n",
            "659          660         0       1   \n",
            "660          661         1       1   \n",
            "678          679         0       3   \n",
            "679          680         1       1   \n",
            "683          684         0       3   \n",
            "689          690         1       1   \n",
            "700          701         1       1   \n",
            "737          738         1       1   \n",
            "742          743         1       1   \n",
            "745          746         0       1   \n",
            "774          775         1       2   \n",
            "792          793         0       3   \n",
            "824          825         0       3   \n",
            "846          847         0       3   \n",
            "863          864         0       3   \n",
            "885          886         0       3   \n",
            "\n",
            "                                                  Name     Sex    Age  SibSp  \\\n",
            "13                         Andersson, Mr. Anders Johan    male  39.00      1   \n",
            "25   Asplund, Mrs. Carl Oscar (Selma Augusta Emilia...  female  38.00      1   \n",
            "27                      Fortune, Mr. Charles Alexander    male  19.00      3   \n",
            "59                  Goodwin, Master. William Frederick    male  11.00      5   \n",
            "68                     Andersson, Miss. Erna Alexandra  female  17.00      4   \n",
            "71                          Goodwin, Miss. Lillian Amy  female  16.00      5   \n",
            "88                          Fortune, Miss. Mabel Helen  female  23.00      3   \n",
            "118                           Baxter, Mr. Quigg Edmond    male  24.00      0   \n",
            "159                         Sage, Master. Thomas Henry    male    NaN      8   \n",
            "164                       Panula, Master. Eino Viljami    male   1.00      4   \n",
            "167    Skoog, Mrs. William (Anna Bernhardina Karlsson)  female  45.00      1   \n",
            "180                       Sage, Miss. Constance Gladys  female    NaN      8   \n",
            "201                                Sage, Mr. Frederick    male    NaN      8   \n",
            "258                                   Ward, Miss. Anna  female  35.00      0   \n",
            "268      Graham, Mrs. William Thompson (Edith Junkins)  female  58.00      0   \n",
            "297                       Allison, Miss. Helen Loraine  female   2.00      1   \n",
            "299    Baxter, Mrs. James (Helene DeLaudeniere Chaput)  female  50.00      0   \n",
            "305                     Allison, Master. Hudson Trevor    male   0.92      1   \n",
            "311                         Ryerson, Miss. Emily Borie  female  18.00      2   \n",
            "324                           Sage, Mr. George John Jr    male    NaN      8   \n",
            "341                     Fortune, Miss. Alice Elizabeth  female  24.00      3   \n",
            "360                                 Skoog, Mr. Wilhelm    male  40.00      1   \n",
            "377                          Widener, Mr. Harry Elkins    male  27.00      0   \n",
            "386                    Goodwin, Master. Sidney Leonard    male   1.00      5   \n",
            "438                                  Fortune, Mr. Mark    male  64.00      1   \n",
            "480                     Goodwin, Master. Harold Victor    male   9.00      5   \n",
            "567        Palsson, Mrs. Nils (Alma Cornelia Berglund)  female  29.00      0   \n",
            "610  Andersson, Mrs. Anders Johan (Alfrida Konstant...  female  39.00      1   \n",
            "638             Panula, Mrs. Juha (Maria Emilia Ojala)  female  41.00      0   \n",
            "659                         Newell, Mr. Arthur Webster    male  58.00      0   \n",
            "660                      Frauenthal, Dr. Henry William    male  50.00      2   \n",
            "678            Goodwin, Mrs. Frederick (Augusta Tyler)  female  43.00      1   \n",
            "679                 Cardeza, Mr. Thomas Drake Martinez    male  36.00      0   \n",
            "683                        Goodwin, Mr. Charles Edward    male  14.00      5   \n",
            "689                  Madill, Miss. Georgette Alexandra  female  15.00      0   \n",
            "700  Astor, Mrs. John Jacob (Madeleine Talmadge Force)  female  18.00      1   \n",
            "737                             Lesurer, Mr. Gustave J    male  35.00      0   \n",
            "742              Ryerson, Miss. Susan Parker \"Suzette\"  female  21.00      2   \n",
            "745                       Crosby, Capt. Edward Gifford    male  70.00      1   \n",
            "774              Hocking, Mrs. Elizabeth (Eliza Needs)  female  54.00      1   \n",
            "792                            Sage, Miss. Stella Anna  female    NaN      8   \n",
            "824                       Panula, Master. Urho Abraham    male   2.00      4   \n",
            "846                           Sage, Mr. Douglas Bullen    male    NaN      8   \n",
            "863                  Sage, Miss. Dorothy Edith \"Dolly\"  female    NaN      8   \n",
            "885               Rice, Mrs. William (Margaret Norton)  female  39.00      0   \n",
            "\n",
            "     Parch     Ticket      Fare            Cabin Embarked  outlier  Outlier  \n",
            "13       5     347082   31.2750              NaN        S       -1       -1  \n",
            "25       5     347077   31.3875              NaN        S       -1       -1  \n",
            "27       2      19950  263.0000      C23 C25 C27        S       -1       -1  \n",
            "59       2    CA 2144   46.9000              NaN        S       -1       -1  \n",
            "68       2    3101281    7.9250              NaN        S       -1       -1  \n",
            "71       2    CA 2144   46.9000              NaN        S       -1       -1  \n",
            "88       2      19950  263.0000      C23 C25 C27        S       -1       -1  \n",
            "118      1   PC 17558  247.5208          B58 B60        C       -1       -1  \n",
            "159      2   CA. 2343   69.5500              NaN        S       -1       -1  \n",
            "164      1    3101295   39.6875              NaN        S       -1       -1  \n",
            "167      4     347088   27.9000              NaN        S       -1       -1  \n",
            "180      2   CA. 2343   69.5500              NaN        S       -1       -1  \n",
            "201      2   CA. 2343   69.5500              NaN        S       -1       -1  \n",
            "258      0   PC 17755  512.3292              NaN        C       -1       -1  \n",
            "268      1   PC 17582  153.4625             C125        S       -1       -1  \n",
            "297      2     113781  151.5500          C22 C26        S       -1       -1  \n",
            "299      1   PC 17558  247.5208          B58 B60        C       -1       -1  \n",
            "305      2     113781  151.5500          C22 C26        S       -1       -1  \n",
            "311      2   PC 17608  262.3750  B57 B59 B63 B66        C       -1       -1  \n",
            "324      2   CA. 2343   69.5500              NaN        S       -1       -1  \n",
            "341      2      19950  263.0000      C23 C25 C27        S       -1       -1  \n",
            "360      4     347088   27.9000              NaN        S       -1       -1  \n",
            "377      2     113503  211.5000              C82        C       -1       -1  \n",
            "386      2    CA 2144   46.9000              NaN        S       -1       -1  \n",
            "438      4      19950  263.0000      C23 C25 C27        S       -1       -1  \n",
            "480      2    CA 2144   46.9000              NaN        S       -1       -1  \n",
            "567      4     349909   21.0750              NaN        S       -1       -1  \n",
            "610      5     347082   31.2750              NaN        S       -1       -1  \n",
            "638      5    3101295   39.6875              NaN        S       -1       -1  \n",
            "659      2      35273  113.2750              D48        C       -1       -1  \n",
            "660      0   PC 17611  133.6500              NaN        S       -1       -1  \n",
            "678      6    CA 2144   46.9000              NaN        S       -1       -1  \n",
            "679      1   PC 17755  512.3292      B51 B53 B55        C       -1       -1  \n",
            "683      2    CA 2144   46.9000              NaN        S       -1       -1  \n",
            "689      1      24160  211.3375               B5        S       -1       -1  \n",
            "700      0   PC 17757  227.5250          C62 C64        C       -1       -1  \n",
            "737      0   PC 17755  512.3292             B101        C       -1       -1  \n",
            "742      2   PC 17608  262.3750  B57 B59 B63 B66        C       -1       -1  \n",
            "745      1  WE/P 5735   71.0000              B22        S       -1       -1  \n",
            "774      3      29105   23.0000              NaN        S       -1       -1  \n",
            "792      2   CA. 2343   69.5500              NaN        S       -1       -1  \n",
            "824      1    3101295   39.6875              NaN        S       -1       -1  \n",
            "846      2   CA. 2343   69.5500              NaN        S       -1       -1  \n",
            "863      2   CA. 2343   69.5500              NaN        S       -1       -1  \n",
            "885      5     382652   29.1250              NaN        Q       -1       -1  \n"
          ]
        }
      ]
    },
    {
      "cell_type": "code",
      "source": [
        "#Choose two numerical features to plot ( adjust as needed)\n",
        "feature1 = \"Age\"\n",
        "feature2 = \"Fare\"\n",
        "\n",
        "#Create a scatter plot\n",
        "plt.figure(figsize=(8, 6))\n",
        "plt.scatter(df[feature1] [df[\"Outlier\"] == -1],\n",
        "            df[feature2] [df[\"Outlier\"] == -1],\n",
        "            c=\"blue\", label=\"inliers\")\n",
        "plt.scatter(df[feature1] [df[\"Outlier\"] == 1],\n",
        "            df[feature2] [df[\"Outlier\"] == 1],\n",
        "            c=\"red\", label=\"outliers\")\n",
        "plt.xlabel(feature1)\n",
        "plt.ylabel(feature2)\n",
        "plt.title(\"Outliers Detection with isolation forest\")\n",
        "plt.legend()\n",
        "plt.show()"
      ],
      "metadata": {
        "colab": {
          "base_uri": "https://localhost:8080/",
          "height": 564
        },
        "id": "C1myK1E2eF7F",
        "outputId": "4b477965-d759-4fef-d87b-dc29e9d761c5"
      },
      "execution_count": null,
      "outputs": [
        {
          "output_type": "display_data",
          "data": {
            "text/plain": [
              "<Figure size 800x600 with 1 Axes>"
            ],
            "image/png": "[encoded data removed]"
          },
          "metadata": {}
        }
      ]
    },
    {
      "cell_type": "code",
      "source": [
        "#Ctiar um DataFrame sem os outlliers\n",
        "df_no_outliers = df[df[\"Outlier\"] == 1]"
      ],
      "metadata": {
        "id": "2qpteBBPesWp"
      },
      "execution_count": null,
      "outputs": []
    },
    {
      "cell_type": "code",
      "source": [
        "#Optionally, reset the index of the new DataFrame\n",
        "df_no_outliers = df_no_outliers.reset_index(drop=True)\n",
        "\n",
        "print(df_no_outliers.head())"
      ],
      "metadata": {
        "colab": {
          "base_uri": "https://localhost:8080/"
        },
        "id": "VANJqh9QfEO2",
        "outputId": "2eef3d29-8d58-4142-f362-cc979d2a11c2"
      },
      "execution_count": null,
      "outputs": [
        {
          "output_type": "stream",
          "name": "stdout",
          "text": [
            "   PassengerId  Survived  Pclass  \\\n",
            "0            1         0       3   \n",
            "1            2         1       1   \n",
            "2            3         1       3   \n",
            "3            4         1       1   \n",
            "4            5         0       3   \n",
            "\n",
            "                                                Name     Sex   Age  SibSp  \\\n",
            "0                            Braund, Mr. Owen Harris    male  22.0      1   \n",
            "1  Cumings, Mrs. John Bradley (Florence Briggs Th...  female  38.0      1   \n",
            "2                             Heikkinen, Miss. Laina  female  26.0      0   \n",
            "3       Futrelle, Mrs. Jacques Heath (Lily May Peel)  female  35.0      1   \n",
            "4                           Allen, Mr. William Henry    male  35.0      0   \n",
            "\n",
            "   Parch            Ticket     Fare Cabin Embarked  outlier  Outlier  \n",
            "0      0         A/5 21171   7.2500   NaN        S        1        1  \n",
            "1      0          PC 17599  71.2833   C85        C        1        1  \n",
            "2      0  STON/O2. 3101282   7.9250   NaN        S        1        1  \n",
            "3      0            113803  53.1000  C123        S        1        1  \n",
            "4      0            373450   8.0500   NaN        S        1        1  \n"
          ]
        }
      ]
    },
    {
      "cell_type": "markdown",
      "source": [
        "6.Exportar o arquivo sem outliers para uma pasya local"
      ],
      "metadata": {
        "id": "tLaXlH7igFXR"
      }
    },
    {
      "cell_type": "code",
      "source": [
        "#Salva o dataframe como um arquivo CSV\n",
        "df_no_outliers.to_csv('titanic_no_outliers.csv', index=False)"
      ],
      "metadata": {
        "id": "3rT3Wn_ugDeR"
      },
      "execution_count": null,
      "outputs": []
    },
    {
      "cell_type": "code",
      "source": [
        "#Baixar o arquivo CSV\n",
        "files.download('titanic_no_outliers.csv')\n"
      ],
      "metadata": {
        "colab": {
          "base_uri": "https://localhost:8080/",
          "height": 17
        },
        "id": "3sl11kfaga9Y",
        "outputId": "457498b1-7e34-4af4-e107-3670dc4d68ac"
      },
      "execution_count": null,
      "outputs": [
        {
          "output_type": "display_data",
          "data": {
            "text/plain": [
              "<IPython.core.display.Javascript object>"
            ],
            "application/javascript": [
              "\n",
              "    async function download(id, filename, size) {\n",
              "      if (!google.colab.kernel.accessAllowed) {\n",
              "        return;\n",
              "      }\n",
              "      const div = document.createElement('div');\n",
              "      const label = document.createElement('label');\n",
              "      label.textContent = `Downloading \"${filename}\": `;\n",
              "      div.appendChild(label);\n",
              "      const progress = document.createElement('progress');\n",
              "      progress.max = size;\n",
              "      div.appendChild(progress);\n",
              "      document.body.appendChild(div);\n",
              "\n",
              "      const buffers = [];\n",
              "      let downloaded = 0;\n",
              "\n",
              "      const channel = await google.colab.kernel.comms.open(id);\n",
              "      // Send a message to notify the kernel that we're ready.\n",
              "      channel.send({})\n",
              "\n",
              "      for await (const message of channel.messages) {\n",
              "        // Send a message to notify the kernel that we're ready.\n",
              "        channel.send({})\n",
              "        if (message.buffers) {\n",
              "          for (const buffer of message.buffers) {\n",
              "            buffers.push(buffer);\n",
              "            downloaded += buffer.byteLength;\n",
              "            progress.value = downloaded;\n",
              "          }\n",
              "        }\n",
              "      }\n",
              "      const blob = new Blob(buffers, {type: 'application/binary'});\n",
              "      const a = document.createElement('a');\n",
              "      a.href = window.URL.createObjectURL(blob);\n",
              "      a.download = filename;\n",
              "      div.appendChild(a);\n",
              "      a.click();\n",
              "      div.remove();\n",
              "    }\n",
              "  "
            ]
          },
          "metadata": {}
        },
        {
          "output_type": "display_data",
          "data": {
            "text/plain": [
              "<IPython.core.display.Javascript object>"
            ],
            "application/javascript": [
              "download(\"download_1e8746a8-96b1-4aae-8192-f4c5e17b864b\", \"titanic_no_outliers.csv\", 61921)"
            ]
          },
          "metadata": {}
        }
      ]
    }
  ]
}