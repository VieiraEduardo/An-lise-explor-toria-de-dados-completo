{
  "nbformat": 4,
  "nbformat_minor": 0,
  "metadata": {
    "colab": {
      "provenance": [],
      "authorship_tag": "ABX9TyPdlkZSkTxQkmWnVxCliFVd",
      "include_colab_link": true
    },
    "kernelspec": {
      "name": "python3",
      "display_name": "Python 3"
    },
    "language_info": {
      "name": "python"
    }
  },
  "cells": [
    {
      "cell_type": "markdown",
      "metadata": {
        "id": "view-in-github",
        "colab_type": "text"
      },
      "source": [
        "<a href=\"https://colab.research.google.com/github/VieiraEduardo/An-lise-explor-toria-de-dados-completo/blob/main/Titanic_1_detec%C3%A7%C3%A3o_e_corre%C3%A7%C3%A3o_de_valores_ausentes.ipynb\" target=\"_parent\"><img src=\"https://colab.research.google.com/assets/colab-badge.svg\" alt=\"Open In Colab\"/></a>"
      ]
    },
    {
      "cell_type": "code",
      "execution_count": null,
      "metadata": {
        "id": "FIeJkkRAFCPe"
      },
      "outputs": [],
      "source": [
        "import pandas as pd\n",
        "import numpy as np\n",
        "import seaborn as sn\n",
        "import os\n",
        "from sklearn.impute import KNNImputer\n",
        "from google.colab import files\n",
        "import matplotlib.pyplot as plt\n",
        "from sklearn.ensemble import IsolationForest"
      ]
    },
    {
      "cell_type": "code",
      "source": [
        "#carregar o conjunto de dados Titanic\n",
        "titanic = sn.load_dataset(\"titanic\")"
      ],
      "metadata": {
        "id": "C7QpGvXoGXCx"
      },
      "execution_count": null,
      "outputs": []
    },
    {
      "cell_type": "code",
      "source": [
        "#visualizar as colunas do conjunto de dados ( metadados ). -> importante para a governança de dados\n",
        "print(\"colunas do conjunto de dados Titanic\")\n",
        "print(titanic.columns)"
      ],
      "metadata": {
        "colab": {
          "base_uri": "https://localhost:8080/"
        },
        "id": "9NP_twyoG-IH",
        "outputId": "5e80b864-e2eb-419f-b1f3-a60fd6bd7a06"
      },
      "execution_count": null,
      "outputs": [
        {
          "output_type": "stream",
          "name": "stdout",
          "text": [
            "colunas do conjunto de dados Titanic\n",
            "Index(['survived', 'pclass', 'sex', 'age', 'sibsp', 'parch', 'fare',\n",
            "       'embarked', 'class', 'who', 'adult_male', 'deck', 'embark_town',\n",
            "       'alive', 'alone'],\n",
            "      dtype='object')\n"
          ]
        }
      ]
    },
    {
      "cell_type": "code",
      "source": [
        "#resumo das colunas\n",
        "print(\"\\nresumo das colunas:\")\n",
        "print(titanic.info())"
      ],
      "metadata": {
        "colab": {
          "base_uri": "https://localhost:8080/"
        },
        "id": "37LR3IPVHaqT",
        "outputId": "c80bdf73-a3f4-44bf-c0f7-93d120df23e9"
      },
      "execution_count": null,
      "outputs": [
        {
          "output_type": "stream",
          "name": "stdout",
          "text": [
            "\n",
            "resumo das colunas:\n",
            "<class 'pandas.core.frame.DataFrame'>\n",
            "RangeIndex: 891 entries, 0 to 890\n",
            "Data columns (total 15 columns):\n",
            " #   Column       Non-Null Count  Dtype   \n",
            "---  ------       --------------  -----   \n",
            " 0   survived     891 non-null    int64   \n",
            " 1   pclass       891 non-null    int64   \n",
            " 2   sex          891 non-null    object  \n",
            " 3   age          714 non-null    float64 \n",
            " 4   sibsp        891 non-null    int64   \n",
            " 5   parch        891 non-null    int64   \n",
            " 6   fare         891 non-null    float64 \n",
            " 7   embarked     889 non-null    object  \n",
            " 8   class        891 non-null    category\n",
            " 9   who          891 non-null    object  \n",
            " 10  adult_male   891 non-null    bool    \n",
            " 11  deck         203 non-null    category\n",
            " 12  embark_town  889 non-null    object  \n",
            " 13  alive        891 non-null    object  \n",
            " 14  alone        891 non-null    bool    \n",
            "dtypes: bool(2), category(2), float64(2), int64(4), object(5)\n",
            "memory usage: 80.7+ KB\n",
            "None\n"
          ]
        }
      ]
    },
    {
      "cell_type": "code",
      "source": [
        "#descrição de cada coluna -> Esta estrutura de dados é um dicionário\n",
        "columns_description = {\n",
        "    \"survived\": \"sobreviveu\",\n",
        "\"pclass\": \"classe do passageiro\",\n",
        "    \"sex\": \"sexo do passageiro\",\n",
        "    \"age\": \"idade do passageiro\",\n",
        "    \"sibsp\": \"número de irmãos e cônjuges a bordo\",\n",
        "\"parch\": \"number of parents/children aboard\",\n",
        "    \"fare\": \"passenger fare\",\n",
        "    \"embarked\": \"port of embarkation\",\n",
        "    \"class\": \"passenger class\",\n",
        "\"who\": \"man or woman\",\n",
        "    \"adult_male\": \"homem adulto\",\n",
        "    \"deck\": \"ilha em que o passageiro estava alocado\",\n",
        "\"embark_town\": \"cidade em que o passageiro embarcou\",\n",
        "    \"alive\": \"sobreviveu\",\n",
        "    \"alone\": \"sozinho\"\n",
        "}\n",
        "#Exibir a descrição da colunas\n",
        "for column, description in columns_description.items():\n",
        "  print(f\"{column}: {description}\")"
      ],
      "metadata": {
        "colab": {
          "base_uri": "https://localhost:8080/"
        },
        "id": "0neWQltuIH_m",
        "outputId": "6898d0c4-43e7-40a8-aff5-ee3015e6130e"
      },
      "execution_count": null,
      "outputs": [
        {
          "output_type": "stream",
          "name": "stdout",
          "text": [
            "survived: sobreviveu\n",
            "pclass: classe do passageiro\n",
            "sex: sexo do passageiro\n",
            "age: idade do passageiro\n",
            "sibsp: número de irmãos e cônjuges a bordo\n",
            "parch: number of parents/children aboard\n",
            "fare: passenger fare\n",
            "embarked: port of embarkation\n",
            "class: passenger class\n",
            "who: man or woman\n",
            "adult_male: homem adulto\n",
            "deck: ilha em que o passageiro estava alocado\n",
            "embark_town: cidade em que o passageiro embarcou\n",
            "alive: sobreviveu\n",
            "alone: sozinho\n"
          ]
        }
      ]
    },
    {
      "cell_type": "code",
      "source": [
        "#visualizar as primeiras linhas dos conjuntos de dados\n",
        "print(titanic.head())"
      ],
      "metadata": {
        "colab": {
          "base_uri": "https://localhost:8080/"
        },
        "id": "p17uCv6bvtdz",
        "outputId": "d4d55fa8-449d-4f2c-f7f2-0c0d53b45dc7"
      },
      "execution_count": null,
      "outputs": [
        {
          "output_type": "stream",
          "name": "stdout",
          "text": [
            "   survived  pclass     sex   age  sibsp  parch     fare embarked  class  \\\n",
            "0         0       3    male  22.0      1      0   7.2500        S  Third   \n",
            "1         1       1  female  38.0      1      0  71.2833        C  First   \n",
            "2         1       3  female  26.0      0      0   7.9250        S  Third   \n",
            "3         1       1  female  35.0      1      0  53.1000        S  First   \n",
            "4         0       3    male  35.0      0      0   8.0500        S  Third   \n",
            "\n",
            "     who  adult_male deck  embark_town alive  alone  \n",
            "0    man        True  NaN  Southampton    no  False  \n",
            "1  woman       False    C    Cherbourg   yes  False  \n",
            "2  woman       False  NaN  Southampton   yes   True  \n",
            "3  woman       False    C  Southampton   yes  False  \n",
            "4    man        True  NaN  Southampton    no   True  \n"
          ]
        }
      ]
    },
    {
      "cell_type": "markdown",
      "source": [
        "Passo 2: Download do arquivo original\n"
      ],
      "metadata": {
        "id": "qkrq14-bwKNt"
      }
    },
    {
      "cell_type": "code",
      "source": [
        "#Definir o nome do arquivo\n",
        "file_name = \"titanic.csv\""
      ],
      "metadata": {
        "id": "6g_qo6RZwYg2"
      },
      "execution_count": null,
      "outputs": []
    },
    {
      "cell_type": "code",
      "source": [
        "#Exportar o dataframe para o arquivo CSV\n",
        "titanic.to_csv(file_name, index=False)"
      ],
      "metadata": {
        "id": "49b3_SbQwf0n"
      },
      "execution_count": null,
      "outputs": []
    },
    {
      "cell_type": "code",
      "source": [
        "#Mensagem que o arquivo foi gerado\n",
        "print(f\"Arquivo {file_name} gerado com sucesso!\")"
      ],
      "metadata": {
        "colab": {
          "base_uri": "https://localhost:8080/"
        },
        "id": "JCcZCtu0wt_t",
        "outputId": "93589ee0-9c18-4f07-b2db-8e5b0ec8410f"
      },
      "execution_count": null,
      "outputs": [
        {
          "output_type": "stream",
          "name": "stdout",
          "text": [
            "Arquivo titanic.csv gerado com sucesso!\n"
          ]
        }
      ]
    },
    {
      "cell_type": "code",
      "source": [
        "#Baixar o arquivo no computador local\n",
        "files.download(file_name)"
      ],
      "metadata": {
        "colab": {
          "base_uri": "https://localhost:8080/",
          "height": 17
        },
        "id": "iS8NUDwBw-6s",
        "outputId": "24805c0f-652f-4464-f63c-24f3c5db73c6"
      },
      "execution_count": null,
      "outputs": [
        {
          "output_type": "display_data",
          "data": {
            "text/plain": [
              "<IPython.core.display.Javascript object>"
            ],
            "application/javascript": [
              "\n",
              "    async function download(id, filename, size) {\n",
              "      if (!google.colab.kernel.accessAllowed) {\n",
              "        return;\n",
              "      }\n",
              "      const div = document.createElement('div');\n",
              "      const label = document.createElement('label');\n",
              "      label.textContent = `Downloading \"${filename}\": `;\n",
              "      div.appendChild(label);\n",
              "      const progress = document.createElement('progress');\n",
              "      progress.max = size;\n",
              "      div.appendChild(progress);\n",
              "      document.body.appendChild(div);\n",
              "\n",
              "      const buffers = [];\n",
              "      let downloaded = 0;\n",
              "\n",
              "      const channel = await google.colab.kernel.comms.open(id);\n",
              "      // Send a message to notify the kernel that we're ready.\n",
              "      channel.send({})\n",
              "\n",
              "      for await (const message of channel.messages) {\n",
              "        // Send a message to notify the kernel that we're ready.\n",
              "        channel.send({})\n",
              "        if (message.buffers) {\n",
              "          for (const buffer of message.buffers) {\n",
              "            buffers.push(buffer);\n",
              "            downloaded += buffer.byteLength;\n",
              "            progress.value = downloaded;\n",
              "          }\n",
              "        }\n",
              "      }\n",
              "      const blob = new Blob(buffers, {type: 'application/binary'});\n",
              "      const a = document.createElement('a');\n",
              "      a.href = window.URL.createObjectURL(blob);\n",
              "      a.download = filename;\n",
              "      div.appendChild(a);\n",
              "      a.click();\n",
              "      div.remove();\n",
              "    }\n",
              "  "
            ]
          },
          "metadata": {}
        },
        {
          "output_type": "display_data",
          "data": {
            "text/plain": [
              "<IPython.core.display.Javascript object>"
            ],
            "application/javascript": [
              "download(\"download_6cc0feda-0978-47d1-86d2-85cc044876d1\", \"titanic_imputed.csv\", 24146)"
            ]
          },
          "metadata": {}
        }
      ]
    },
    {
      "cell_type": "markdown",
      "source": [
        "Passo 3: Identificação dos dados nulos"
      ],
      "metadata": {
        "id": "RVinVJwBxNjm"
      }
    },
    {
      "cell_type": "code",
      "source": [
        "#Verificar valores ausentes\n",
        "print(titanic.isnull().sum())"
      ],
      "metadata": {
        "colab": {
          "base_uri": "https://localhost:8080/"
        },
        "id": "dnfxirtvxXXm",
        "outputId": "55f024e5-372e-4118-932d-027d0bc5e551"
      },
      "execution_count": null,
      "outputs": [
        {
          "output_type": "stream",
          "name": "stdout",
          "text": [
            "survived         0\n",
            "pclass           0\n",
            "sex              0\n",
            "age            177\n",
            "sibsp            0\n",
            "parch            0\n",
            "fare             0\n",
            "embarked         2\n",
            "class            0\n",
            "who              0\n",
            "adult_male       0\n",
            "deck           688\n",
            "embark_town      2\n",
            "alive            0\n",
            "alone            0\n",
            "dtype: int64\n"
          ]
        }
      ]
    },
    {
      "cell_type": "code",
      "source": [
        "#Resumo dos valores ausentes por coluna\n",
        "missing_values = titanic.isnull().sum()\n",
        "print(missing_values[missing_values > 0])"
      ],
      "metadata": {
        "colab": {
          "base_uri": "https://localhost:8080/"
        },
        "id": "ddaa-9RXxvN2",
        "outputId": "fae1f249-bdb0-4e8e-add8-2fa671434e73"
      },
      "execution_count": null,
      "outputs": [
        {
          "output_type": "stream",
          "name": "stdout",
          "text": [
            "age            177\n",
            "embarked         2\n",
            "deck           688\n",
            "embark_town      2\n",
            "dtype: int64\n"
          ]
        }
      ]
    },
    {
      "cell_type": "markdown",
      "source": [
        "Passo 4: Usando um algoritimo de IA para preencher valores ausentes\n"
      ],
      "metadata": {
        "id": "wyg0fLUxyaRC"
      }
    },
    {
      "cell_type": "code",
      "source": [
        "#Selecionar apenas as colunas númericas para o KNNInputer\n",
        "numeric_numerics = titanic.select_dtypes(include=[float, int])"
      ],
      "metadata": {
        "id": "GLtGLvoqyvzf"
      },
      "execution_count": null,
      "outputs": []
    },
    {
      "cell_type": "code",
      "source": [
        "#Iniciaizar o KNNImputer\n",
        "Inputer = KNNImputer(n_neighbors=5)\n",
        "\n"
      ],
      "metadata": {
        "id": "P0vhSHsrzGl2"
      },
      "execution_count": null,
      "outputs": []
    },
    {
      "cell_type": "code",
      "source": [
        "#Aplicar o KNNImputer\n",
        "titanic_imputed = pd.DataFrame(Inputer.fit_transform(numeric_numerics), columns=numeric_numerics.columns)"
      ],
      "metadata": {
        "id": "TYMQeuMlzqSv"
      },
      "execution_count": null,
      "outputs": []
    },
    {
      "cell_type": "code",
      "source": [
        "#Verificar se os valores ausentes foram preenchidos\n",
        "print(titanic_imputed.isnull().sum())"
      ],
      "metadata": {
        "colab": {
          "base_uri": "https://localhost:8080/"
        },
        "id": "g01E1mwP0mys",
        "outputId": "112aada4-677d-43c3-a6c6-f579f1cfb454"
      },
      "execution_count": null,
      "outputs": [
        {
          "output_type": "stream",
          "name": "stdout",
          "text": [
            "survived    0\n",
            "pclass      0\n",
            "age         0\n",
            "sibsp       0\n",
            "parch       0\n",
            "fare        0\n",
            "dtype: int64\n"
          ]
        }
      ]
    },
    {
      "cell_type": "code",
      "source": [
        "#Comparar os dados originais com valores ausentes preenchidos\n",
        "print(\"Valores ausentes antes da imputação:\\n\", titanic.isnull().sum())\n",
        "print(\"Valores ausentes depois da imputação:\\n\", titanic_imputed.isnull().sum())"
      ],
      "metadata": {
        "colab": {
          "base_uri": "https://localhost:8080/"
        },
        "id": "nBGarWbi08eU",
        "outputId": "b606b233-823c-45ed-b315-15b6db4147fd"
      },
      "execution_count": null,
      "outputs": [
        {
          "output_type": "stream",
          "name": "stdout",
          "text": [
            "Valores ausentes antes da imputação:\n",
            " survived         0\n",
            "pclass           0\n",
            "sex              0\n",
            "age            177\n",
            "sibsp            0\n",
            "parch            0\n",
            "fare             0\n",
            "embarked         2\n",
            "class            0\n",
            "who              0\n",
            "adult_male       0\n",
            "deck           688\n",
            "embark_town      2\n",
            "alive            0\n",
            "alone            0\n",
            "dtype: int64\n",
            "Valores ausentes depois da imputação:\n",
            " survived    0\n",
            "pclass      0\n",
            "age         0\n",
            "sibsp       0\n",
            "parch       0\n",
            "fare        0\n",
            "dtype: int64\n"
          ]
        }
      ]
    },
    {
      "cell_type": "markdown",
      "source": [
        "Passo 5: Download do arquivo com os valores inputados\n"
      ],
      "metadata": {
        "id": "t6t4UOQHGUaF"
      }
    },
    {
      "cell_type": "code",
      "source": [
        "#Definir o nome do arquivo\n",
        "file_name = \"titanic_imputed.csv\""
      ],
      "metadata": {
        "id": "2akVvqcYGiHZ"
      },
      "execution_count": null,
      "outputs": []
    },
    {
      "cell_type": "code",
      "source": [
        "#Exportar o Dataframe para um arquivo CSV\n",
        "titanic_imputed.to_csv(file_name, index=False)"
      ],
      "metadata": {
        "id": "4zuVq_ZqGqK_"
      },
      "execution_count": null,
      "outputs": []
    },
    {
      "cell_type": "code",
      "source": [
        "print(f\"Arquivo {file_name} gerado com sucesso!\")"
      ],
      "metadata": {
        "colab": {
          "base_uri": "https://localhost:8080/"
        },
        "id": "hAkNTtc0G3cq",
        "outputId": "99d8f734-fdb7-4cd6-ccb7-004b7d62169a"
      },
      "execution_count": null,
      "outputs": [
        {
          "output_type": "stream",
          "name": "stdout",
          "text": [
            "Arquivo titanic_imputed.csv gerado com sucesso!\n"
          ]
        }
      ]
    },
    {
      "cell_type": "code",
      "source": [
        "#baixar o arquivo CSV para o computador local\n",
        "files.download(file_name)"
      ],
      "metadata": {
        "colab": {
          "base_uri": "https://localhost:8080/",
          "height": 17
        },
        "id": "TWdfWzDhG9GY",
        "outputId": "2a95b400-43bd-4f82-8b90-c9c77fad5782"
      },
      "execution_count": null,
      "outputs": [
        {
          "output_type": "display_data",
          "data": {
            "text/plain": [
              "<IPython.core.display.Javascript object>"
            ],
            "application/javascript": [
              "\n",
              "    async function download(id, filename, size) {\n",
              "      if (!google.colab.kernel.accessAllowed) {\n",
              "        return;\n",
              "      }\n",
              "      const div = document.createElement('div');\n",
              "      const label = document.createElement('label');\n",
              "      label.textContent = `Downloading \"${filename}\": `;\n",
              "      div.appendChild(label);\n",
              "      const progress = document.createElement('progress');\n",
              "      progress.max = size;\n",
              "      div.appendChild(progress);\n",
              "      document.body.appendChild(div);\n",
              "\n",
              "      const buffers = [];\n",
              "      let downloaded = 0;\n",
              "\n",
              "      const channel = await google.colab.kernel.comms.open(id);\n",
              "      // Send a message to notify the kernel that we're ready.\n",
              "      channel.send({})\n",
              "\n",
              "      for await (const message of channel.messages) {\n",
              "        // Send a message to notify the kernel that we're ready.\n",
              "        channel.send({})\n",
              "        if (message.buffers) {\n",
              "          for (const buffer of message.buffers) {\n",
              "            buffers.push(buffer);\n",
              "            downloaded += buffer.byteLength;\n",
              "            progress.value = downloaded;\n",
              "          }\n",
              "        }\n",
              "      }\n",
              "      const blob = new Blob(buffers, {type: 'application/binary'});\n",
              "      const a = document.createElement('a');\n",
              "      a.href = window.URL.createObjectURL(blob);\n",
              "      a.download = filename;\n",
              "      div.appendChild(a);\n",
              "      a.click();\n",
              "      div.remove();\n",
              "    }\n",
              "  "
            ]
          },
          "metadata": {}
        },
        {
          "output_type": "display_data",
          "data": {
            "text/plain": [
              "<IPython.core.display.Javascript object>"
            ],
            "application/javascript": [
              "download(\"download_fb0d854a-0b0f-4f4c-b7fe-6dc355ec0c71\", \"titanic_imputed.csv\", 24146)"
            ]
          },
          "metadata": {}
        }
      ]
    },
    {
      "cell_type": "markdown",
      "source": [
        "Identificação de Outliers"
      ],
      "metadata": {
        "id": "9DrrMFFBJ9kp"
      }
    },
    {
      "cell_type": "code",
      "source": [
        "#É importante tratar os dados antes de aplicar o Isolation Forest. Irei preencher valores ausentes e selecionar algumas colunas numéricas.\n"
      ],
      "metadata": {
        "id": "5CueDrEjKBaQ"
      },
      "execution_count": null,
      "outputs": []
    },
    {
      "cell_type": "code",
      "source": [
        "#Verificar valores ausentes\n",
        "print(titanic.isnull().sum())\n"
      ],
      "metadata": {
        "colab": {
          "base_uri": "https://localhost:8080/"
        },
        "id": "Pc_obE-TKjoV",
        "outputId": "54b48dd4-629a-44e7-8f73-5f05b321d32b"
      },
      "execution_count": null,
      "outputs": [
        {
          "output_type": "stream",
          "name": "stdout",
          "text": [
            "survived         0\n",
            "pclass           0\n",
            "sex              0\n",
            "age            177\n",
            "sibsp            0\n",
            "parch            0\n",
            "fare             0\n",
            "embarked         2\n",
            "class            0\n",
            "who              0\n",
            "adult_male       0\n",
            "deck           688\n",
            "embark_town      2\n",
            "alive            0\n",
            "alone            0\n",
            "dtype: int64\n"
          ]
        }
      ]
    },
    {
      "cell_type": "code",
      "source": [
        "#Selecionar colunas numércias para detectar outliers\n",
        "numerical_features = [\"age\", \"fare\", \"sibsp\", \"parch\"]\n",
        "df_numerical = titanic[numerical_features]"
      ],
      "metadata": {
        "id": "aJRMkOxJK30X"
      },
      "execution_count": null,
      "outputs": []
    },
    {
      "cell_type": "code",
      "source": [
        "#Inicializar o modelo Isolation Forest\n",
        "model = IsolationForest(contamination=0.05, random_state=42)"
      ],
      "metadata": {
        "id": "TokhNdTxLw_O"
      },
      "execution_count": null,
      "outputs": []
    },
    {
      "cell_type": "code",
      "source": [
        "#import SimpleImputer to handle missing  values\n",
        "from sklearn.impute import SimpleImputer"
      ],
      "metadata": {
        "id": "VWecLE93MS-t"
      },
      "execution_count": null,
      "outputs": []
    },
    {
      "cell_type": "code",
      "source": [
        "#create an inputer to fill missing values with de median\n",
        "imputer = SimpleImputer(strategy='median')"
      ],
      "metadata": {
        "id": "BHU-KhHUP0Qj"
      },
      "execution_count": null,
      "outputs": []
    },
    {
      "cell_type": "markdown",
      "source": [
        " 5 Processamento do modelo - onde entra a parte de IA\n"
      ],
      "metadata": {
        "id": "VrAHKIsAQglQ"
      }
    }
  ]
}